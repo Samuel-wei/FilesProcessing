{
 "cells": [
  {
   "cell_type": "code",
   "execution_count": 1,
   "id": "4f73c6f1",
   "metadata": {},
   "outputs": [
    {
     "data": {
      "text/plain": [
       "_io.TextIOWrapper"
      ]
     },
     "execution_count": 1,
     "metadata": {},
     "output_type": "execute_result"
    }
   ],
   "source": [
    "file = open('batteryconfig.txt')\n",
    "type(file)"
   ]
  },
  {
   "cell_type": "code",
   "execution_count": 3,
   "id": "6c235ff8",
   "metadata": {},
   "outputs": [
    {
     "data": {
      "text/plain": [
       "_io.BufferedReader"
      ]
     },
     "execution_count": 3,
     "metadata": {},
     "output_type": "execute_result"
    }
   ],
   "source": [
    "file = open('batteryconfig.txt', 'rb')\n",
    "type(file)"
   ]
  },
  {
   "cell_type": "code",
   "execution_count": 4,
   "id": "66b4f885",
   "metadata": {},
   "outputs": [
    {
     "data": {
      "text/plain": [
       "_io.FileIO"
      ]
     },
     "execution_count": 4,
     "metadata": {},
     "output_type": "execute_result"
    }
   ],
   "source": [
    "file = open('batteryconfig.txt', 'rb', buffering=0)\n",
    "type(file)"
   ]
  },
  {
   "cell_type": "code",
   "execution_count": 9,
   "id": "76a09f07",
   "metadata": {},
   "outputs": [
    {
     "name": "stdout",
     "output_type": "stream",
     "text": [
      "/Home/Work\n"
     ]
    }
   ],
   "source": [
    "file = 'batteryconfig.txt'\n",
    "\n",
    "with open(file,encoding='utf-8') as reader:\n",
    "    print(reader.readline(10))"
   ]
  },
  {
   "cell_type": "code",
   "execution_count": 12,
   "id": "1e8b0a5e",
   "metadata": {},
   "outputs": [
    {
     "name": "stdout",
     "output_type": "stream",
     "text": [
      "['/Home/Workspace/Deeplearning/Pythonprogramming/Data/Battery/坑点压伤/反面/坑点压伤反面配置.Txt\\n', '/Home/Workspace/Deeplearning/Pythonprogramming/Data/Battery/坑点压伤/正面/坑点压伤正面配置2.Txt\\n', '/Home/Workspace/Deeplearning/Pythonprogramming/Data/Battery/压伤/正面/压伤正面配置.Txt\\n', '/Home/Workspace/Deeplearning/Pythonprogramming/Data/Battery/压伤/正面/压伤正面配置2.Txt\\n', '/Home/Workspace/Deeplearning/Pythonprogramming/Data/Battery/打伤/反面/配置2.Txt\\n', '/Home/Workspace/Deeplearning/Pythonprogramming/Data/Battery/打伤/反面/配置.Txt\\n', '/Home/Workspace/Deeplearning/Pythonprogramming/Data/Battery/生锈/反面/配置2.Txt\\n', '/Home/Workspace/Deeplearning/Pythonprogramming/Data/Battery/生锈/正面/配置2.Txt\\n', '/Home/Workspace/Deeplearning/Pythonprogramming/Data/Battery/生锈/正面/配置.Txt\\n', '/Home/Workspace/Deeplearning/Pythonprogramming/Data/Battery/划伤/反面/划伤反面配置2.Txt\\n', '/Home/Workspace/Deeplearning/Pythonprogramming/Data/Battery/平面毛刺/反面/配置2.Txt\\n']\n"
     ]
    }
   ],
   "source": [
    "file = 'batteryconfig.txt'\n",
    "\n",
    "with open(file,encoding='utf-8') as reader:\n",
    "    print(reader.readlines())"
   ]
  },
  {
   "cell_type": "code",
   "execution_count": 16,
   "id": "8a347092",
   "metadata": {},
   "outputs": [
    {
     "name": "stdout",
     "output_type": "stream",
     "text": [
      "/Home/Workspace/Deeplearning/Pythonprogramming/Data/Battery/坑点压伤/反面/坑点压伤反面配置.Txt\n",
      "/Home/Workspace/Deeplearning/Pythonprogramming/Data/Battery/坑点压伤/正面/坑点压伤正面配置2.Txt\n",
      "/Home/Workspace/Deeplearning/Pythonprogramming/Data/Battery/压伤/正面/压伤正面配置.Txt\n",
      "/Home/Workspace/Deeplearning/Pythonprogramming/Data/Battery/压伤/正面/压伤正面配置2.Txt\n",
      "/Home/Workspace/Deeplearning/Pythonprogramming/Data/Battery/打伤/反面/配置2.Txt\n",
      "/Home/Workspace/Deeplearning/Pythonprogramming/Data/Battery/打伤/反面/配置.Txt\n",
      "/Home/Workspace/Deeplearning/Pythonprogramming/Data/Battery/生锈/反面/配置2.Txt\n",
      "/Home/Workspace/Deeplearning/Pythonprogramming/Data/Battery/生锈/正面/配置2.Txt\n",
      "/Home/Workspace/Deeplearning/Pythonprogramming/Data/Battery/生锈/正面/配置.Txt\n",
      "/Home/Workspace/Deeplearning/Pythonprogramming/Data/Battery/划伤/反面/划伤反面配置2.Txt\n",
      "/Home/Workspace/Deeplearning/Pythonprogramming/Data/Battery/平面毛刺/反面/配置2.Txt\n"
     ]
    }
   ],
   "source": [
    "file = 'batteryconfig.txt'\n",
    "\n",
    "with open(file, encoding='utf-8') as reader:\n",
    "    line = reader.readline()\n",
    "    while line != '':\n",
    "        print(line, end='')\n",
    "        line=reader.readline()"
   ]
  },
  {
   "cell_type": "code",
   "execution_count": 21,
   "id": "061cb09d",
   "metadata": {},
   "outputs": [
    {
     "name": "stdout",
     "output_type": "stream",
     "text": [
      "/Home/Workspace/Deeplearning/Pythonprogramming/Data/Battery/坑点压伤/反面/坑点压伤反面配置.Txt\n",
      "/Home/Workspace/Deeplearning/Pythonprogramming/Data/Battery/坑点压伤/正面/坑点压伤正面配置2.Txt\n",
      "/Home/Workspace/Deeplearning/Pythonprogramming/Data/Battery/压伤/正面/压伤正面配置.Txt\n",
      "/Home/Workspace/Deeplearning/Pythonprogramming/Data/Battery/压伤/正面/压伤正面配置2.Txt\n",
      "/Home/Workspace/Deeplearning/Pythonprogramming/Data/Battery/打伤/反面/配置2.Txt\n",
      "/Home/Workspace/Deeplearning/Pythonprogramming/Data/Battery/打伤/反面/配置.Txt\n",
      "/Home/Workspace/Deeplearning/Pythonprogramming/Data/Battery/生锈/反面/配置2.Txt\n",
      "/Home/Workspace/Deeplearning/Pythonprogramming/Data/Battery/生锈/正面/配置2.Txt\n",
      "/Home/Workspace/Deeplearning/Pythonprogramming/Data/Battery/生锈/正面/配置.Txt\n",
      "/Home/Workspace/Deeplearning/Pythonprogramming/Data/Battery/划伤/反面/划伤反面配置2.Txt\n",
      "/Home/Workspace/Deeplearning/Pythonprogramming/Data/Battery/平面毛刺/反面/配置2.Txt\n"
     ]
    }
   ],
   "source": [
    "file = 'batteryconfig.txt'\n",
    "\n",
    "with open(file, encoding='utf-8') as reader:\n",
    "    for line in reader.readlines():\n",
    "        print(line, end='')\n",
    "        "
   ]
  },
  {
   "cell_type": "code",
   "execution_count": 22,
   "id": "66471b67",
   "metadata": {},
   "outputs": [
    {
     "name": "stdout",
     "output_type": "stream",
     "text": [
      "b'/Home/Workspace/Deeplearning/Pythonprogramming/Data/Battery/\\xe5\\x9d\\x91\\xe7\\x82\\xb9\\xe5\\x8e\\x8b\\xe4\\xbc\\xa4/\\xe5\\x8f\\x8d\\xe9\\x9d\\xa2/\\xe5\\x9d\\x91\\xe7\\x82\\xb9\\xe5\\x8e\\x8b\\xe4\\xbc\\xa4\\xe5\\x8f\\x8d\\xe9\\x9d\\xa2\\xe9\\x85\\x8d\\xe7\\xbd\\xae.Txt\\n'\n"
     ]
    }
   ],
   "source": [
    "file = 'batteryconfig.txt'\n",
    "\n",
    "with open(file, 'rb') as reader:\n",
    "    print(reader.readline())"
   ]
  },
  {
   "cell_type": "code",
   "execution_count": 24,
   "id": "93844bed",
   "metadata": {},
   "outputs": [
    {
     "name": "stdout",
     "output_type": "stream",
     "text": [
      "b'/Home/Work'\n"
     ]
    }
   ],
   "source": [
    "file = 'batteryconfig.txt'\n",
    "\n",
    "with open(file, 'rb') as byte_reader:\n",
    "    print(byte_reader.read(10))"
   ]
  },
  {
   "cell_type": "code",
   "execution_count": 25,
   "id": "afffb777",
   "metadata": {},
   "outputs": [
    {
     "data": {
      "text/plain": [
       "'/home/workspace/DeepLearning/PythonProgramming/data'"
      ]
     },
     "execution_count": 25,
     "metadata": {},
     "output_type": "execute_result"
    }
   ],
   "source": [
    "import os\n",
    "\n"
   ]
  },
  {
   "cell_type": "code",
   "execution_count": null,
   "id": "63e78545",
   "metadata": {},
   "outputs": [],
   "source": []
  }
 ],
 "metadata": {
  "kernelspec": {
   "display_name": "Python 3",
   "language": "python",
   "name": "python3"
  },
  "language_info": {
   "codemirror_mode": {
    "name": "ipython",
    "version": 3
   },
   "file_extension": ".py",
   "mimetype": "text/x-python",
   "name": "python",
   "nbconvert_exporter": "python",
   "pygments_lexer": "ipython3",
   "version": "3.6.9"
  }
 },
 "nbformat": 4,
 "nbformat_minor": 5
}

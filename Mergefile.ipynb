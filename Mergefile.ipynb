{
 "cells": [
  {
   "cell_type": "code",
   "execution_count": 37,
   "id": "25368488",
   "metadata": {},
   "outputs": [],
   "source": [
    "import os \n",
    "\n",
    "#os.listdir(), return list of file and folder under path, but don't traverse subdirectory\n",
    "def file_name_listdir(file_dir):\n",
    "    for files in os.listdir(file_dir):\n",
    "        print(\"files\", files)\n",
    "\n",
    "file_name_listdir(\"/home/workspace/DeepLearning/PythonProgramming/data/\")"
   ]
  },
  {
   "cell_type": "code",
   "execution_count": 38,
   "id": "430c0a3a",
   "metadata": {},
   "outputs": [],
   "source": [
    "#os.walk(), return under path of files and all files of subdirectory.\n",
    "def file_name_walk(file_dir):\n",
    "    for root, dirs, files in os.walk(file_dir):\n",
    "        print(\"root\", root)\n",
    "        print(\"dirs\", dirs)\n",
    "        print(\"files\", files)\n",
    "\n",
    "file_name_walk(\"/home/workspace/DeepLearning/PythonProgramming/data/\")\n"
   ]
  },
  {
   "cell_type": "code",
   "execution_count": 39,
   "id": "c6fb3432",
   "metadata": {},
   "outputs": [],
   "source": [
    "#Use global variable to saved the file names if you went to savings the file name for each call from global list.\n",
    "Files_Global = []\n",
    "\n",
    "def file_name_listdir_global(file_dir):\n",
    "    for files in os.listdir(file_dir):\n",
    "        Files_Global.append(files)\n",
    "\n",
    "file_name_listdir_global(\"/home/workspace/DeepLearning/PythonProgramming/data/battery/\")\n",
    "file_name_listdir_global(\"/home/workspace/DeepLearning/PythonProgramming/data\")\n",
    "print(\"Files_Gloabl: \", Files_Global) "
   ]
  },
  {
   "cell_type": "code",
   "execution_count": 40,
   "id": "e8d362fb",
   "metadata": {},
   "outputs": [],
   "source": [
    "#local variable and function return\n",
    "def file_name_listdir_local(file_dir):\n",
    "    files_local = []\n",
    "    for files in os.listdir(file_dir):\n",
    "        files_local.append(files)\n",
    "    return files_local\n",
    "\n",
    "file_local_1 = file_name_listdir_local(\"/home/workspace/DeepLearning/PythonProgramming/data\")\n",
    "file_local_2 = file_name_listdir_local(\"/home/workspace/DeepLearning/PythonProgramming/data/battery\")\n",
    "print(\"file_local_1: \", file_local_1)\n",
    "print(\"file_local_2: \", file_local_2"
   ]
  },
  {
   "cell_type": "code",
   "execution_count": null,
   "id": "b2457ca2",
   "metadata": {},
   "outputs": [],
   "source": [
    "#os.path.splitext function specific the file style\n",
    "def file_name(file_dir):\n",
    "    File_Name = []\n",
    "    for files in os.listdir(file_dir):\n",
    "        if os.path.splitext(files)[1] == '.txt':\n",
    "            File_Name.append(files)\n",
    "    return File_Name\n",
    "txt_file_name=file_name(\"/home/workspace/DeepLearning/PythonProgramming/data/\")\n",
    "print(\"txt_file_name\", txt_file_name)\n"
   ]
  },
  {
   "cell_type": "code",
   "execution_count": 15,
   "id": "a9c6995d",
   "metadata": {},
   "outputs": [],
   "source": [
    "# -*- coding:utf-8 _*_\n",
    "import os \n",
    "\n",
    "#Get the path name\n",
    "mergefiledir = os.getcwd() + '/20210315-0603'\n",
    "\n",
    "#get the recent the list of file folder name\n",
    "filenames = os.listdir(mergefiledir)\n",
    "\n",
    "#Create reslut.txt\n",
    "file = open('result.txt', 'w')\n",
    "\n",
    "#Traverse history file folder name\n",
    "for filename in filenames:\n",
    "    filepath = mergefiledir+\"/\"\n",
    "    filepath = filepath+filename\n",
    "    #Traverse alone file and read number of lines\n",
    "    try:\n",
    "        for line in open(filepath, encoding='ISO-8859-1'):\n",
    "            file.writelines(line)\n",
    "    except IsADirectoryError:\n",
    "        pass\n",
    "    except UnicodeEncodeError:\n",
    "        pass\n",
    "    else:       \n",
    "        file.write('\\n')\n",
    "    \n",
    "#Close file\n",
    "file.close()"
   ]
  },
  {
   "cell_type": "markdown",
   "id": "7c9e7af3",
   "metadata": {},
   "source": [
    "## Traversal all txt file under path"
   ]
  },
  {
   "cell_type": "code",
   "execution_count": 41,
   "id": "11480d32",
   "metadata": {},
   "outputs": [],
   "source": [
    "# Reference: https://cloud.tencent.com/developer/article/1742319\n",
    "import os\n",
    "path = '/home/workspace/DeepLearning/PythonProgramming/data/battery'\n",
    "path_read = []  #path_read saves all executable files\n",
    "\n",
    "def check_if_dir(file_path):\n",
    "  temp_list = os.listdir(file_path)  #put file name from file_path in temp_list\n",
    "  for temp_list_each in temp_list:\n",
    "    if os.path.isfile(file_path + '/' + temp_list_each):\n",
    "      temp_path = file_path + '/' + temp_list_each\n",
    "      if os.path.splitext(temp_path)[-1] == '.txt':  #自己需要处理的是.log文件所以在此加一个判断\n",
    "        path_read.append(temp_path)\n",
    "      else:\n",
    "        continue\n",
    "    else:\n",
    "      check_if_dir(file_path + '/' + temp_list_each)  #loop traversal\n",
    "\n",
    "check_if_dir(path)\n",
    "print(path_read"
   ]
  },
  {
   "cell_type": "markdown",
   "id": "65483292",
   "metadata": {},
   "source": [
    "## Write the path to batteryconfig.txt"
   ]
  },
  {
   "cell_type": "code",
   "execution_count": null,
   "id": "0f66239b",
   "metadata": {},
   "outputs": [],
   "source": [
    "#Write all txt file paths to 'batteryconfig.txt'\n",
    "filename = '/home/workspace/DeepLearning/PythonProgramming/data/batteryconfig.txt'\n",
    "with open(filename, \"w\") as file_object:\n",
    "\tfor i in path_read:\n",
    "\t\tfiles_path = i.title() + \"\\n\"\n",
    "\t\tfile_object.write(str(files_path))"
   ]
  },
  {
   "cell_type": "markdown",
   "id": "b182dfa0",
   "metadata": {},
   "source": [
    "## Read the txt file contents"
   ]
  },
  {
   "cell_type": "code",
   "execution_count": 42,
   "id": "73ce7c1f",
   "metadata": {},
   "outputs": [],
   "source": [
    "import os\n",
    "\n",
    "txt_path = \"/home/workspace/DeepLearning/PythonProgramming/data/\"\n",
    "files = os.listdir(txt_path)\n",
    "txts = []\n",
    "for file in files:\n",
    "\tposition = txt_path + file  #Structure the absolute path '\\\\', one of '\\' as translation symbol\n",
    "\t#print(position)\n",
    "\ttry:\n",
    "\t\twith open(position, 'r') as f:\n",
    "\t\t\tif os.path.splitext(position)[-1] == '.txt':\n",
    "\t\t\t\tdata = f.read()\n",
    "\t\t\t\ttxts.append(data)\n",
    "\t\t\t\t#print(data)\n",
    "\texcept IsADirectoryError:\n",
    "\t\tmsg = \"Sorry, the path does not opening.\" \n",
    "\t\tprint(msg)\n",
    "txts=',' + '\\n'.join(txts)\n",
    "print(txts)"
   ]
  },
  {
   "cell_type": "markdown",
   "id": "461e1857",
   "metadata": {},
   "source": [
    "## Python read specifically all txt file of path and write all txt contents into txt file"
   ]
  },
  {
   "cell_type": "code",
   "execution_count": 43,
   "id": "db624106",
   "metadata": {},
   "outputs": [],
   "source": [
    "# Reference: https://blog.csdn.net/weixin_38300566/article/details/80510914\n",
    "import glob\n",
    "import os \n",
    "\n",
    "path = '/home/workspace/DeepLearning/PythonProgramming/data'\n",
    "f = '/home/workspace/DeepLearning/PythonProgramming/data/all_batteryconfig.txt'\n",
    "\n",
    "def read_writeFile(path, f):\n",
    "\tcate=[path+'/'+x for x in os.listdir(path)]\n",
    "\tf2 = open(f, 'a+')\n",
    "\tfor idx, folder in enumerate(cate):\n",
    "\t\tfor txt in glob.glob(folder+'/*.txt'):\n",
    "\t\t\tf1=open(txt,'r')\n",
    "\t\t\tfor eachLine in f1:\n",
    "\t\t\t\tf2.write(eachLine)\n",
    "\t\t\t\tf2.write(\" \"+str(idx+1)+'\\n')\n",
    "\t\t\tf1.close()\n",
    "\n",
    "read_writeFile(path,f)"
   ]
  },
  {
   "cell_type": "markdown",
   "id": "a0362df0",
   "metadata": {},
   "source": [
    "## Python read a batch txt file"
   ]
  },
  {
   "cell_type": "code",
   "execution_count": null,
   "id": "0cbec8fe",
   "metadata": {},
   "outputs": [],
   "source": [
    "# Reference:https://blog.csdn.net/kanon122500000/article/details/57111153?utm_medium=distribute.pc_relevant.none-task-blog-2%7Edefault%7ECTRLIST%7Edefault-1.no_search_link&depth_1-utm_source=distribute.pc_relevant.none-task-blog-2%7Edefault%7ECTRLIST%7Edefault-1.no_search_link\n",
    "\n",
    "import os\n",
    "\n",
    "path = \"/home/workspace/DeepLearning/PythonProgramming/data\"\n",
    "\n",
    "with open('/home/workspace/DeepLearning/PythonProgramming/data/all_batteryconfig.txt', 'w') as abstract:\n",
    "\n",
    "\tfor file in os.listdir(path):\n",
    "\t\tfile_name = path + '/' +file\n",
    "\t\t#print(file_name)\n",
    "\t\tif os.path.splitext(file_name)[-1] == '.txt':\n",
    "\t\t\tfilein = open(file_name, 'r')\n",
    "\t\t\t#print(filein)\n",
    "\t\t\tfor line in filein:\n",
    "\t\t\t\tabstract.write(line.rstrip(\"\\n\"))\n",
    "\t\t\t\tprint(line)"
   ]
  }
 ],
 "metadata": {
  "kernelspec": {
   "display_name": "Python 3",
   "language": "python",
   "name": "python3"
  },
  "language_info": {
   "codemirror_mode": {
    "name": "ipython",
    "version": 3
   },
   "file_extension": ".py",
   "mimetype": "text/x-python",
   "name": "python",
   "nbconvert_exporter": "python",
   "pygments_lexer": "ipython3",
   "version": "3.6.9"
  }
 },
 "nbformat": 4,
 "nbformat_minor": 5
}
